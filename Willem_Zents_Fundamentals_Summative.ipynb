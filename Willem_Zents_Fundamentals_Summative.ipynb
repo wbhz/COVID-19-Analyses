{
 "metadata": {
  "language_info": {
   "codemirror_mode": {
    "name": "ipython",
    "version": 3
   },
   "file_extension": ".py",
   "mimetype": "text/x-python",
   "name": "python",
   "nbconvert_exporter": "python",
   "pygments_lexer": "ipython3",
   "version": "3.7.9-final"
  },
  "orig_nbformat": 2,
  "kernelspec": {
   "name": "Python 3.7.9 64-bit ('base': conda)",
   "display_name": "Python 3.7.9 64-bit ('base': conda)",
   "metadata": {
    "interpreter": {
     "hash": "baa8f4af0576733556bcb59e2fbf3e7df088ea59c587e69010f847f7c3f090a2"
    }
   }
  }
 },
 "nbformat": 4,
 "nbformat_minor": 2,
 "cells": [
  {
   "source": [
    "## Fundamentals for Social Data Science in Python - Summative\n",
    "**Willem Zents**\n",
    "**MT 2020**"
   ],
   "cell_type": "markdown",
   "metadata": {}
  },
  {
   "source": [
    "# Instructions\n",
    "\n",
    "The final essay will allow you to consolidate many of the skills you’ve learned in the course thus far in a single report. This report should be submitted as a Jupyter notebook with working code as well as a description of the work you have done. You should also submit a backup PDF of your notebook.\n",
    "\n",
    "This essay will have two parts. The combined word total should be 3500 words. The structure of the notebook should look as follows: (with the grade weighting for each section):\n",
    "\n",
    "* Part 1 setup: (500 words/one Jupyter notebook cell) [10 points]\n",
    "* Part 1 data analysis in Python (any number of Jupyter notebook cells) [20 points]\n",
    "* Discussion of Part 1 results (one Jupyter notebook cell/750 words) [10 points]\n",
    "* Part 2 setup of merging in additional data. [10 points]\n",
    "* Part 2 data analysis in Python (any number of Jupyter notebook cells) [20 points]\n",
    "* Discussion of Part 2 results: (750 words/one Jupyter notebook cell) [10 points]\n",
    "* Limitations of these descriptive analyses (one Jupyter notebook cell) [10 points]\n",
    "\n",
    "There is an additional 10 points for presentation, which includes both the presentation of the code and the presentation of any tabular or graphic data, consistency of bibliographic sources, and correct use of grammar and syntax. Part 1."
   ],
   "cell_type": "markdown",
   "metadata": {}
  },
  {
   "source": [
    "# Part 1\n",
    "\n",
    "The first part will involve the use of the OxCOVID19 database (https://oxcovid19.eng.ox.ac.uk) , which has an extensive set of data not only including COVID-related data but data on world values, geographic mobility, sociodemographic data, and more. Each table can be linked to others using identifiers as discussed on the database website. You should come up with a research question, justify that research question in a literature review section (of less than 750 words), and then proceed to query the database for the relevant data which you should merge, visualise and make claims about. You do not have to include any statistics on COVID-related data itself should you wish not to. You can instead simply use the additional extensive supplementary data. You should be able to plot the merged data in such a way that it speaks to your research question and report on descriptive statistics where relevant. You are asked not to do any complex multivariate modelling. This question should be primarily descriptive in nature. Example research questions include:\n",
    "\n",
    "Did areas of the world with different social values (as measured by some question on the World Values Survey) have different proportions of COVID infections in April?\n",
    "Are people in the UK more mobile on days when the weather was above average? Did this hold during lockdown?\n",
    "Is air pressure more variable in coastal countries (or coastal regions) or inland countries (or inland regions)? You should interpret the resulting output and summarise it in a report section of not more than 750 words.\n",
    "\n",
    "It is assumed that the evaluators should be able to reproduce your findings by running the Jupyter notebook themselves.\n",
    "\n",
    "One important caveat is that this work should not require the installation of any external libraries not featured in class."
   ],
   "cell_type": "markdown",
   "metadata": {}
  },
  {
   "source": [
    "## Part 1 - Setup\n",
    "*500 words*"
   ],
   "cell_type": "markdown",
   "metadata": {}
  },
  {
   "source": [
    "### Ideas\n",
    "* Do countries with lower hospital capacity impose stricter measures?\n",
    "    * It would make sense that countries which have less capacity in their hospitals run a higher risk of getting overwhelmed by a rise of COVID cases, therefore they have less room to take risks by having looser restrictions.\n",
    "\n",
    "* Bauer et al. find that \"geographical access to intensive care beds varies significantly across European countries and low ICU accessibility was associated with a higher proportion of COVID-19 deaths to cases (CFR)\". \n",
    "\n",
    "* Davies et al.: \"These studies have broadly suggested that moderate measures could reduce epidemic size, but more intensive measures would be required to ensure health system capacity was not surpassed.\"\n",
    "\n",
    "* Davies et al. \" Intensive interventions with lockdown periods would need to be in place for a large proportion of the coming year to prevent health-care demand exceeding availability.\"\n",
    "\n",
    "* Sebhatu et al: Countries with higher care capacity were slower to adopt COVID-19 restrictions.\n",
    "\n",
    "* Sussman: \"A smaller supply of hospital beds leads to higher mortality rates that induce governments to take more stringent closure measures that have greater economic costs. Higher mortality could also affect consumer confidence, bring about panic-driven decisions that also affect the economy adversely.\"\n",
    "\n",
    "* Elgin: \"This result implies that countries where the number of beds per capita is lower, more stringent economic stimulus is adopted.\"\n"
   ],
   "cell_type": "markdown",
   "metadata": {}
  },
  {
   "cell_type": "code",
   "execution_count": 2,
   "metadata": {
    "tags": []
   },
   "outputs": [],
   "source": [
    "# Installing psycopg2 - PostgreSQL Database Adapter\n",
    "# Requires an installation of PostgreSQL on your computer\n",
    "import pandas as pd\n",
    "try: \n",
    "    import psycopg2\n",
    "except ModuleNotFoundError:\n",
    "    import sys\n",
    "    !{sys.executable} -m pip install psycopg2\n",
    "    import psycopg2\n",
    "\n",
    "# TODO make sure that this is runnable by an evaluator"
   ]
  },
  {
   "cell_type": "code",
   "execution_count": 3,
   "metadata": {},
   "outputs": [],
   "source": [
    "# Establishing connection to the OXCOVID-19 Database. Code snippet taken from: https://github.com/covid19db/examples/blob/master/data-loading/data-access-postgresql.ipynb\n",
    "\n",
    "conn = psycopg2.connect(\n",
    "    host='covid19db.org',\n",
    "    port=5432,\n",
    "    dbname='covid19',\n",
    "    user='covid19',\n",
    "    password='covid19')\n",
    "cur = conn.cursor()"
   ]
  },
  {
   "cell_type": "code",
   "execution_count": 7,
   "metadata": {},
   "outputs": [
    {
     "output_type": "execute_result",
     "data": {
      "text/plain": [
       "h3_contact_tracing\n",
       "2.0                   162\n",
       "1.0                    81\n",
       "0.0                    57\n",
       "dtype: int64"
      ]
     },
     "metadata": {},
     "execution_count": 7
    }
   ],
   "source": [
    "# Loading one table as a test\n",
    "countrycode = \"NLD\"\n",
    "\n",
    "sql_command = \"\"\"SELECT h3_contact_tracing FROM government_response WHERE countrycode=%(countrycode)s ORDER by date DESC\"\"\"\n",
    "df_govtrack = pd.read_sql(sql_command, conn, params={'countrycode': countrycode})\n",
    "df_govtrack.value_counts()"
   ]
  },
  {
   "source": [
    "## Part 1 - Data Analysis in Python"
   ],
   "cell_type": "markdown",
   "metadata": {}
  },
  {
   "cell_type": "code",
   "execution_count": null,
   "metadata": {},
   "outputs": [],
   "source": []
  },
  {
   "source": [
    "## Part 1 - Discussion of results\n",
    "*750 words*"
   ],
   "cell_type": "markdown",
   "metadata": {}
  },
  {
   "source": [
    "# Part 2.\n",
    "\n",
    "Develop a second research question that will require you to build in additional data (in less than 750 words). You will select an API (or direct URL) from the web which will allow you to download said data that you should merge in with the OxCOVID19 data. This second question does not need to be linked thematically to the first. Consider it like a second blog post. . You will first have to justify the choice of external data, your specific choice of API endpoints or URL, time frames or other ranges for this data. You should then report on the merged data through descriptive statistics and plots where appropriate. Data sources could include anything from reddit, Wikipedia, Facebook, Twitter, StackOverflow, or another source not covered in class (as long as it is publicly available either openly or through a free registered account). You can use external libraries (such as praw) in order to collect this data. Please do not submit any private API keys with this data. We suggest that private keys be written in an external file that is read by the notebook just to be safe. You should interpret the resulting output and summarise it in a report section of not more than 750 words.\n",
    "\n",
    "It is not assumed that the evaluators will be able to reproduce this section with your code since it might involve the use of user-generated API keys or other forms of authentication not available to the evaluators. However, the section should include all relevant code and output other than the keys. You should consider an approach that does not require you to repeatedly request the same data from the API, such as writing it to file and then working on it in a different cell, or from the data you have now stored.\n",
    "\n",
    "Example research questions for this section:\n",
    "\n",
    "Do countries with longer Wikipedia pages also have more extensive government responses to COVID?\n",
    "Comparing two countries, one with a high number of active cases and one with a low number: does the one with active cases have a higher proportion of tweets mentioning COVID in a window of time for Twitter streaming requests.\n",
    "Which countries are mentioned most often in /r/coronavirus and do they relate to statistics concerning COVID\n",
    "Examples of non-COVID research questions:\n",
    "\n",
    "Do countries with longer Wikipedia pages (external) correlate with higher GDP (from the World Bank tables)?\n",
    "Does a country’s democracy index (e.g., https://en.wikipedia.org/wiki/Democracy_Index) relate to more stable weather?\n",
    "Finally, please write a reflective conclusion (of not more than 500 words) that discusses the limitations of the data in relation to your claims. You are also encouraged to build in any concerns about insights arising from this data, ethical issues with the analysis, and potential future avenues for analysis based on your work.\n",
    "\n",
    "This work, while in a report style, should be referenced like any scholarly work. Please include a cell at the bottom of your notebook which includes all the references.\n",
    "\n",
    "We request that you submit this summative as both a working Jupyter notebook (*.ipynb file) and as a PDF file that includes all of your output. This is because the evaluators may run your code and might still want to check this with the output that you have submitted. This pdf can either be generated from JupyterLab itself if you have the appropriate LaTeX modules installed or simply by going to ‘print’ for that browser window and print to PDF.   "
   ],
   "cell_type": "markdown",
   "metadata": {}
  },
  {
   "source": [
    "## Part 2 - Setup"
   ],
   "cell_type": "markdown",
   "metadata": {}
  },
  {
   "cell_type": "code",
   "execution_count": null,
   "metadata": {},
   "outputs": [],
   "source": []
  },
  {
   "source": [
    "## Part 2 - Data Analysis in Python"
   ],
   "cell_type": "markdown",
   "metadata": {}
  },
  {
   "cell_type": "code",
   "execution_count": null,
   "metadata": {},
   "outputs": [],
   "source": []
  },
  {
   "source": [
    "## Part 2 - Discussion of Results\n",
    "*750 words*"
   ],
   "cell_type": "markdown",
   "metadata": {}
  },
  {
   "source": [],
   "cell_type": "markdown",
   "metadata": {}
  },
  {
   "source": [
    "## Limitations\n",
    "*One cell*"
   ],
   "cell_type": "markdown",
   "metadata": {}
  },
  {
   "source": [],
   "cell_type": "markdown",
   "metadata": {}
  },
  {
   "cell_type": "code",
   "execution_count": null,
   "metadata": {},
   "outputs": [],
   "source": []
  },
  {
   "source": [
    "# Submission Instructions \n",
    "\n",
    "The assignment must be submitted electronically via the Assignment Submission WebLearn Site before midday on Monday 7th December (Week 9 Michaelmas Term).\n",
    "\n",
    "If anything goes wrong with your submission, email msc@oii.ox.ac.uk immediately. In cases where a technical fault that is later determined to be a fault of the WebLearn system (and not a fault of your computer) prevents your submitting the assessment on time, having a time stamped email message will help the Proctors determine if your assessment will be accepted. Please note that you should not wait until the last minute to submit materials since WebLearn can run slowly at peak submission times and this is not considered a technical fault.\n",
    "\n",
    "Full instructions on using WebLearn for electronic submissions can be found on Canvas.\n",
    "\n",
    "Candidate Number and Cover Sheet: Remember to use the OII coversheet, stating clearly your candidate number, your course, assignment, title and word count. Your work should be identified ONLY by your candidate number (which can be found by visiting the online Student Self-Service facility).\n",
    "\n",
    "Remember we are required under regulations to accept your FIRST submission so please make sure you are uploading the correct file."
   ],
   "cell_type": "markdown",
   "metadata": {}
  },
  {
   "cell_type": "code",
   "execution_count": null,
   "metadata": {},
   "outputs": [],
   "source": []
  }
 ]
}